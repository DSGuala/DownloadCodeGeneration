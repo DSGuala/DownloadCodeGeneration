{
 "cells": [
  {
   "cell_type": "code",
   "execution_count": 1,
   "metadata": {},
   "outputs": [],
   "source": [
    "# pip install ipywidgets into the jupyter kernel environment\n",
    "# in the terminal, with the kernel environment activated, activate widgets by running:\n",
    "# jupyter nbextension enable --py widgetsnbextension\n",
    "import ipywidgets as widgets"
   ]
  },
  {
   "cell_type": "code",
   "execution_count": 2,
   "metadata": {},
   "outputs": [],
   "source": [
    "def give_code_mol(**kwargs):\n",
    "    #basis set string\n",
    "    basis_string = kwargs['basis']\n",
    "    \n",
    "    #check if radio button value is valid\n",
    "    if not (kwargs['configuration'] == 'one configuration' or kwargs['configuration'] == 'all configurations'):\n",
    "        raise ValueError('Configuration_radio_button value should be \\'one\\' or \\'all\\'')\n",
    "    #one configuration or all configurations: determines whether to do 'full' for bondlength\n",
    "    if kwargs['configuration']== 'all configurations':\n",
    "        bondlength_string = '\\'full\\''\n",
    "    else: #the randio button says we have only one bondlength\n",
    "        #check that there is a bondlength stored\n",
    "        if not 'bondlength' in kwargs:\n",
    "            raise ValueError('When choosing only one bondlength to download, the value should be entered as a keyword argument: bondlength = value') \n",
    "        bondlength = kwargs['bondlength']\n",
    "        bondlength_string = f'{bondlength}'\n",
    "\n",
    "    #all attributes or specific attributes\n",
    "    if kwargs['all attributes']:\n",
    "        attributes_string = ''\n",
    "    else:\n",
    "        #join all the attributes into a list\n",
    "        attributes_string = 'attributes = ' + '['+ ','.join(kwargs['attributes']) + ']'\n",
    "\n",
    "    molname_string = kwargs['molname']\n",
    "\n",
    "    return(f'qml.data.load(\\'qchem\\', molname = \\'{molname_string}\\', basis = \\'{basis_string}\\', bondlength = {bondlength_string}, {attributes_string})')\n",
    "    # return('qml.data.load(\\'qchem\\', ' + 'basis = ' basis_string + ', '+ bondlength_string + ', ' + attributes_string+')')"
   ]
  },
  {
   "cell_type": "code",
   "execution_count": 3,
   "metadata": {},
   "outputs": [
    {
     "data": {
      "application/vnd.jupyter.widget-view+json": {
       "model_id": "907ab0f291434a208c59a8cde6059b5d",
       "version_major": 2,
       "version_minor": 0
      },
      "text/plain": [
       "Dropdown(description='Molecule: the molecule page we are in', index=19, options=('CH4', 'H2O', 'H3+', 'HeH+', …"
      ]
     },
     "metadata": {},
     "output_type": "display_data"
    },
    {
     "data": {
      "application/vnd.jupyter.widget-view+json": {
       "model_id": "888aaf9274494a68a2ff8a961bfec088",
       "version_major": 2,
       "version_minor": 0
      },
      "text/plain": [
       "Dropdown(description='basis', options=('STO-3G', '6-31G', 'CC-PVDZ'), value='STO-3G')"
      ]
     },
     "metadata": {},
     "output_type": "display_data"
    },
    {
     "data": {
      "application/vnd.jupyter.widget-view+json": {
       "model_id": "b381d664d05d4eeeb19d068f36993aee",
       "version_major": 2,
       "version_minor": 0
      },
      "text/plain": [
       "FloatSlider(value=0.5, continuous_update=False, description='bondlength', max=1.0, min=0.5, step=0.04)"
      ]
     },
     "metadata": {},
     "output_type": "display_data"
    },
    {
     "data": {
      "application/vnd.jupyter.widget-view+json": {
       "model_id": "08556915464d444da7676968a2d5dbcc",
       "version_major": 2,
       "version_minor": 0
      },
      "text/plain": [
       "RadioButtons(description='Bondlengths', options=('one configuration', 'all configurations'), value='one config…"
      ]
     },
     "metadata": {},
     "output_type": "display_data"
    },
    {
     "data": {
      "application/vnd.jupyter.widget-view+json": {
       "model_id": "a62e6ef11e9a449ab095da10b77b80b7",
       "version_major": 2,
       "version_minor": 0
      },
      "text/plain": [
       "Checkbox(value=False, description='all attributes')"
      ]
     },
     "metadata": {},
     "output_type": "display_data"
    },
    {
     "data": {
      "application/vnd.jupyter.widget-view+json": {
       "model_id": "7cdf4e95593d4988903d588064652318",
       "version_major": 2,
       "version_minor": 0
      },
      "text/plain": [
       "HBox(children=(VBox(children=(Checkbox(value=False, description='molecule'), Checkbox(value=False, description…"
      ]
     },
     "metadata": {},
     "output_type": "display_data"
    },
    {
     "data": {
      "application/vnd.jupyter.widget-view+json": {
       "model_id": "4159abc070704a9eb097e106750f50c8",
       "version_major": 2,
       "version_minor": 0
      },
      "text/plain": [
       "Textarea(value=\"qml.data.load('qchem', molname = 'H2', basis = 'STO-3G', bondlength = 0.5, attributes = [])\", …"
      ]
     },
     "metadata": {},
     "output_type": "display_data"
    }
   ],
   "source": [
    "\n",
    "molecule = widgets.Dropdown(\n",
    "    options=['CH4', 'H2O', 'H3+', 'HeH+', 'LiH', 'NH3', 'HF', 'H7', 'BH3', 'C2', 'H4', 'Li2', 'H5', 'OH-', 'H8', 'He2', 'H6', 'HCN', 'NeH+', 'H2', 'CO', 'BeH2', 'N2', 'N2H4', 'O2', 'C2H4', 'N2H2', 'C2H6', 'H10', 'H2O2', 'CO2', 'O3', 'C2H2'],\n",
    "    value='H2',\n",
    "    description='Molecule: the molecule page we are in',\n",
    "    disabled=False,\n",
    "    style = {'description_width':'initial'}\n",
    ")\n",
    "\n",
    "molecule.description\n",
    "\n",
    "basis = widgets.Dropdown(\n",
    "    options=['STO-3G', '6-31G', 'CC-PVDZ'],\n",
    "    value='STO-3G',\n",
    "    description='basis',\n",
    "    disabled=False,\n",
    ")\n",
    "\n",
    "bondlength = widgets.FloatSlider(\n",
    "    value=0.5,\n",
    "    min=0.5,\n",
    "    max=1,\n",
    "    step=0.04,\n",
    "    description='bondlength',\n",
    "    disabled=False,\n",
    "    continuous_update=False,\n",
    "    orientation='horizontal',\n",
    "    readout=True,\n",
    "    readout_format='.2f',\n",
    ")\n",
    "\n",
    "radio_button = widgets.RadioButtons(\n",
    "    options=['one configuration', 'all configurations'],\n",
    "    description='Bondlengths',\n",
    "    disabled=False\n",
    ")\n",
    "\n",
    "checkboxes = {attribute: widgets.Checkbox(value=False, description = attribute) for attribute in ['all attributes', 'molecule',\n",
    "    'hamiltonian',\n",
    "    'sparse_hamiltonian',\n",
    "    'meas_groupings',\n",
    "    'symmetries',\n",
    "    'paulix_ops',\n",
    "    'optimal_sector',\n",
    "    'dipole_op',\n",
    "    'num_op',\n",
    "    'spin2_op',\n",
    "    'spinz_op',\n",
    "    'hf_state',\n",
    "    'fci_spectrum',\n",
    "    'fci_energy',\n",
    "    'tapered_hamiltonian',\n",
    "    'tapered_dipole_op',\n",
    "    'tapered_num_op',\n",
    "    'tapered_spin2_op',\n",
    "    'tapered_spinz_op',\n",
    "    'tapered_hf_state',\n",
    "    'tapered_wire_map',\n",
    "    'vqe_energy',\n",
    "    'vqe_params',\n",
    "    'vqe_gates']}\n",
    "\n",
    "text = widgets.Textarea(\n",
    "    value=give_code_mol(**{'all attributes':False, 'molname' : molecule.value,\n",
    "    'basis' : basis.value,\n",
    "    'bondlength' : bondlength.value,\n",
    "    'configuration' : radio_button.value,\n",
    "    'attributes': []}),\n",
    "    placeholder='Type something',\n",
    "    description='String:',\n",
    "    disabled=False,\n",
    "    layout = widgets.Layout(width = '90%')\n",
    ")\n",
    "\n",
    "def update_kwargs():\n",
    "    kwargs = {}\n",
    "    kwargs['molname'] = molecule.value\n",
    "    kwargs['basis'] = basis.value\n",
    "    kwargs['bondlength'] = bondlength.value\n",
    "    kwargs['configuration'] = radio_button.value\n",
    "    attributes_list = []\n",
    "    for key,value in checkboxes.items():\n",
    "        if key == 'all attributes':\n",
    "            kwargs['all attributes'] = value.value\n",
    "        else:\n",
    "            if value.value:\n",
    "                attributes_list.append(key)\n",
    "        kwargs['attributes'] = attributes_list\n",
    "    return kwargs\n",
    "\n",
    "kwargs = update_kwargs()\n",
    "\n",
    "def toggle_all(change):\n",
    "    for key,value in checkboxes.items():\n",
    "        if not (key == 'all attributes'):\n",
    "            checkboxes[key].value = checkboxes['all attributes'].value\n",
    "\n",
    "def interactive_plot(change):\n",
    "    selection = {}\n",
    "    #call some plot_function(data = data, selection = selection)\n",
    "    for key, value in checkboxes.items():\n",
    "        if not (key == 'all attributes'):\n",
    "            selection[value.description] = value.value\n",
    "\n",
    "    # for changing the text:\n",
    "    kwargs = update_kwargs()\n",
    "    text.value = give_code_mol(**kwargs)\n",
    "\n",
    "\n",
    "checkboxes['all attributes'].observe(toggle_all) #when you click the first checkbox, it changes all the others to same as the first checkbox\n",
    "\n",
    "# for cb in checkboxes[1:]:\n",
    "#     cb.observe(interactive_plot)\n",
    "\n",
    "for key,value in checkboxes.items():\n",
    "    if not (key == 'all attributes'):\n",
    "        checkboxes[key].observe(interactive_plot)\n",
    "\n",
    "\n",
    "\n",
    "molecule.observe(interactive_plot)\n",
    "\n",
    "\n",
    "\n",
    "radio_button.observe(interactive_plot)\n",
    "\n",
    "\n",
    "\n",
    "basis.observe(interactive_plot)\n",
    "\n",
    "\n",
    "\n",
    "bondlength.observe(interactive_plot)\n",
    "\n",
    "vbox1 = widgets.VBox(children = list(checkboxes.values())[1:len(checkboxes.values())//2+1])\n",
    "vbox2 = widgets.VBox(children = list(checkboxes.values())[len(checkboxes.values())//2+1:])\n",
    "hbox = widgets.HBox(children=[vbox1,vbox2])\n",
    "\n",
    "display(molecule)\n",
    "display(basis)\n",
    "display(bondlength)\n",
    "display(radio_button)\n",
    "display(list(checkboxes.values())[0])\n",
    "display(hbox)\n",
    "display(text)"
   ]
  },
  {
   "cell_type": "code",
   "execution_count": 4,
   "metadata": {},
   "outputs": [],
   "source": [
    "def give_code_spin(**kwargs):\n",
    "    #basis set string\n",
    "    sysname_string = kwargs['sysname']\n",
    "    layout_string = kwargs['layout']\n",
    "    periodicity_string = kwargs['periodicity']\n",
    "    lattice_string = kwargs['lattice']\n",
    "    \n",
    "    #all attributes or specific attributes\n",
    "    if kwargs['all attributes']:\n",
    "        attributes_string = ''\n",
    "    else:\n",
    "        #join all the attributes into a list\n",
    "        attributes_string = 'attributes = ' + '['+ ','.join(kwargs['attributes']) + ']'\n",
    "\n",
    "    return(f'qml.data.load(\\'qspin\\', sysname = \\'{sysname_string}\\', periodicity = \\'{periodicity_string}\\', lattice = \\'{lattice_string}\\', layout = \\'{layout_string}\\', {attributes_string})')"
   ]
  },
  {
   "cell_type": "code",
   "execution_count": 6,
   "metadata": {},
   "outputs": [
    {
     "data": {
      "application/vnd.jupyter.widget-view+json": {
       "model_id": "38506fc0148e472c970999caa8a74c2e",
       "version_major": 2,
       "version_minor": 0
      },
      "text/plain": [
       "Dropdown(description='Spin system: the spin system page we are in', options=('Ising', 'Heisenberg', 'FermiHubb…"
      ]
     },
     "metadata": {},
     "output_type": "display_data"
    },
    {
     "data": {
      "application/vnd.jupyter.widget-view+json": {
       "model_id": "71e0a5c7b88248b3bc37edd98847e3a6",
       "version_major": 2,
       "version_minor": 0
      },
      "text/plain": [
       "Dropdown(description='periodicity', options=('open', 'closed'), value='open')"
      ]
     },
     "metadata": {},
     "output_type": "display_data"
    },
    {
     "data": {
      "application/vnd.jupyter.widget-view+json": {
       "model_id": "076e0b6bf86a43afa42cdabbffd1b500",
       "version_major": 2,
       "version_minor": 0
      },
      "text/plain": [
       "Dropdown(description='lattice', options=('chain', 'rectangular'), value='chain')"
      ]
     },
     "metadata": {},
     "output_type": "display_data"
    },
    {
     "data": {
      "application/vnd.jupyter.widget-view+json": {
       "model_id": "edaf204925394a72b924bb340811d687",
       "version_major": 2,
       "version_minor": 0
      },
      "text/plain": [
       "Dropdown(description='layout: these options depend on what is available for the spin system', options=('1x4', …"
      ]
     },
     "metadata": {},
     "output_type": "display_data"
    },
    {
     "data": {
      "application/vnd.jupyter.widget-view+json": {
       "model_id": "b9977f1d33564b66924ab8eb5199cc82",
       "version_major": 2,
       "version_minor": 0
      },
      "text/plain": [
       "Checkbox(value=False, description='all attributes')"
      ]
     },
     "metadata": {},
     "output_type": "display_data"
    },
    {
     "data": {
      "application/vnd.jupyter.widget-view+json": {
       "model_id": "57082ae31e7f41c5939b58566b7eafb1",
       "version_major": 2,
       "version_minor": 0
      },
      "text/plain": [
       "HBox(children=(VBox(children=(Checkbox(value=False, description='spin_system'), Checkbox(value=False, descript…"
      ]
     },
     "metadata": {},
     "output_type": "display_data"
    },
    {
     "data": {
      "application/vnd.jupyter.widget-view+json": {
       "model_id": "8177659be136434ea20fe8cefc6d9aac",
       "version_major": 2,
       "version_minor": 0
      },
      "text/plain": [
       "Textarea(value=\"qml.data.load('qspin', sysname = 'Ising', periodicity = 'open', lattice = 'chain', layout = '1…"
      ]
     },
     "metadata": {},
     "output_type": "display_data"
    }
   ],
   "source": [
    "\n",
    "sysname = widgets.Dropdown(\n",
    "    options=['Ising', 'Heisenberg', 'FermiHubbard', 'BoseHubbard'],\n",
    "    value='Ising',\n",
    "    description='Spin system: the spin system page we are in',\n",
    "    disabled=False,\n",
    "    style = {'description_width':'initial'}\n",
    ")\n",
    "\n",
    "periodicity = widgets.Dropdown(\n",
    "    options=['open', 'closed'],\n",
    "    value='open',\n",
    "    description='periodicity',\n",
    "    disabled=False,\n",
    ")\n",
    "\n",
    "lattice = widgets.Dropdown(\n",
    "    options=['chain', 'rectangular'],\n",
    "    value='chain',\n",
    "    description='lattice',\n",
    "    disabled=False,\n",
    ")\n",
    "\n",
    "layout = widgets.Dropdown(\n",
    "    options=['1x4', '1x8', '1x16', '2x2', '2x4', '2x8', '4x4'],\n",
    "    value='1x4',\n",
    "    description='layout: these options depend on what is available for the spin system',\n",
    "    disabled=False,\n",
    "    style = {'description_width':'initial'}\n",
    ")\n",
    "\n",
    "checkboxes = {attribute: widgets.Checkbox(value=False, description = attribute) for attribute in ['all attributes',\n",
    "    'spin_system',\n",
    "    'hamiltonians',\n",
    "    'parameters',\n",
    "    'ground_energies',\n",
    "    'ground_states',\n",
    "    'shadow_basis',\n",
    "    'shadow_meas',\n",
    "    'order_params',\n",
    "    'num_phases']}\n",
    "\n",
    "text = widgets.Textarea(\n",
    "    value=give_code_spin(**{'all attributes':False, \n",
    "    'sysname' : sysname.value,\n",
    "    'periodicity' : periodicity.value,\n",
    "    'lattice' : lattice.value,\n",
    "    'layout' : layout.value,\n",
    "    'attributes': []}),\n",
    "    placeholder='Type something',\n",
    "    description='String:',\n",
    "    disabled=False,\n",
    "    layout = widgets.Layout(width = '90%')\n",
    ")\n",
    "\n",
    "def update_kwargs():\n",
    "    kwargs = {}\n",
    "    kwargs['sysname'] = sysname.value\n",
    "    kwargs['periodicity'] = periodicity.value\n",
    "    kwargs['lattice'] = lattice.value\n",
    "    kwargs['layout'] = layout.value\n",
    "    attributes_list = []\n",
    "    for key,value in checkboxes.items():\n",
    "        if key == 'all attributes':\n",
    "            kwargs['all attributes'] = value.value\n",
    "        else:\n",
    "            if value.value:\n",
    "                attributes_list.append(key)\n",
    "    kwargs['attributes'] = attributes_list\n",
    "    return kwargs\n",
    "\n",
    "kwargs = update_kwargs()\n",
    "\n",
    "def toggle_all(change):\n",
    "    for key,value in checkboxes.items():\n",
    "        if not (key == 'all attributes'):\n",
    "            checkboxes[key].value = checkboxes['all attributes'].value\n",
    "\n",
    "def interactive_plot(change):\n",
    "    selection = {}\n",
    "    #call some plot_function(data = data, selection = selection)\n",
    "    for key, value in checkboxes.items():\n",
    "        if not (key == 'all attributes'):\n",
    "            selection[value.description] = value.value\n",
    "\n",
    "    # for changing the text:\n",
    "    kwargs = update_kwargs()\n",
    "    text.value = give_code_spin(**kwargs)\n",
    "\n",
    "\n",
    "checkboxes['all attributes'].observe(toggle_all) #when you click the first checkbox, it changes all the others to same as the first checkbox\n",
    "\n",
    "for key,value in checkboxes.items():\n",
    "    if not (key == 'all attributes'):\n",
    "        checkboxes[key].observe(interactive_plot)\n",
    "\n",
    "\n",
    "\n",
    "sysname.observe(interactive_plot)\n",
    "\n",
    "periodicity.observe(interactive_plot)\n",
    "\n",
    "lattice.observe(interactive_plot)\n",
    "\n",
    "layout.observe(interactive_plot)\n",
    "\n",
    "vbox1 = widgets.VBox(children = list(checkboxes.values())[1:len(checkboxes.values())//2+1])\n",
    "vbox2 = widgets.VBox(children = list(checkboxes.values())[len(checkboxes.values())//2+1:])\n",
    "hbox = widgets.HBox(children=[vbox1,vbox2])\n",
    "\n",
    "display(sysname)\n",
    "display(periodicity)\n",
    "display(lattice)\n",
    "display(layout)\n",
    "display(list(checkboxes.values())[0])\n",
    "display(hbox)\n",
    "display(text)"
   ]
  },
  {
   "cell_type": "code",
   "execution_count": 23,
   "metadata": {},
   "outputs": [
    {
     "data": {
      "text/plain": [
       "['spin_system',\n",
       " 'hamiltonians',\n",
       " 'parameters',\n",
       " 'ground_energies',\n",
       " 'ground_states',\n",
       " 'shadow_basis',\n",
       " 'shadow_meas',\n",
       " 'order_params',\n",
       " 'num_phases']"
      ]
     },
     "execution_count": 23,
     "metadata": {},
     "output_type": "execute_result"
    }
   ],
   "source": [
    "import pennylane as qml\n",
    "qml.data.load('qspin',sysname='BoseHubbard', periodicity='open', lattice='chain',layout='1x4')[0].list_attributes()"
   ]
  }
 ],
 "metadata": {
  "kernelspec": {
   "display_name": ".venv",
   "language": "python",
   "name": "python3"
  },
  "language_info": {
   "codemirror_mode": {
    "name": "ipython",
    "version": 3
   },
   "file_extension": ".py",
   "mimetype": "text/x-python",
   "name": "python",
   "nbconvert_exporter": "python",
   "pygments_lexer": "ipython3",
   "version": "3.8.10"
  },
  "orig_nbformat": 4
 },
 "nbformat": 4,
 "nbformat_minor": 2
}
